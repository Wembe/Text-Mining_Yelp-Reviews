{
 "cells": [
  {
   "cell_type": "code",
   "execution_count": 35,
   "metadata": {},
   "outputs": [],
   "source": [
    "import re\n",
    "import pandas as pd\n",
    "import seaborn as sns\n",
    "\n",
    "from afinn import Afinn\n",
    "\n",
    "from sklearn.metrics import confusion_matrix, accuracy_score\n",
    "from sklearn.feature_extraction.text import CountVectorizer\n",
    "from sklearn.naive_bayes import MultinomialNB, BernoulliNB\n",
    "from sklearn.svm import LinearSVC\n",
    "from sklearn.model_selection import train_test_split"
   ]
  },
  {
   "cell_type": "code",
   "execution_count": 2,
   "metadata": {},
   "outputs": [
    {
     "name": "stdout",
     "output_type": "stream",
     "text": [
      "(24846, 7)\n",
      "--------------------\n"
     ]
    },
    {
     "data": {
      "text/html": [
       "<div>\n",
       "<style scoped>\n",
       "    .dataframe tbody tr th:only-of-type {\n",
       "        vertical-align: middle;\n",
       "    }\n",
       "\n",
       "    .dataframe tbody tr th {\n",
       "        vertical-align: top;\n",
       "    }\n",
       "\n",
       "    .dataframe thead th {\n",
       "        text-align: right;\n",
       "    }\n",
       "</style>\n",
       "<table border=\"1\" class=\"dataframe\">\n",
       "  <thead>\n",
       "    <tr style=\"text-align: right;\">\n",
       "      <th></th>\n",
       "      <th>name</th>\n",
       "      <th>stars</th>\n",
       "      <th>text</th>\n",
       "      <th>date</th>\n",
       "      <th>state</th>\n",
       "      <th>latitude</th>\n",
       "      <th>longitude</th>\n",
       "    </tr>\n",
       "  </thead>\n",
       "  <tbody>\n",
       "    <tr>\n",
       "      <th>0</th>\n",
       "      <td>Starbucks</td>\n",
       "      <td>1.0</td>\n",
       "      <td>Worst service ever.  Only one here and took 10...</td>\n",
       "      <td>2017-07-18 17:31:43</td>\n",
       "      <td>NV</td>\n",
       "      <td>36.273808</td>\n",
       "      <td>-115.252006</td>\n",
       "    </tr>\n",
       "    <tr>\n",
       "      <th>1</th>\n",
       "      <td>Starbucks</td>\n",
       "      <td>1.0</td>\n",
       "      <td>This location is consistently out of breakfast...</td>\n",
       "      <td>2015-10-24 15:45:36</td>\n",
       "      <td>NV</td>\n",
       "      <td>36.273808</td>\n",
       "      <td>-115.252006</td>\n",
       "    </tr>\n",
       "    <tr>\n",
       "      <th>2</th>\n",
       "      <td>Starbucks</td>\n",
       "      <td>5.0</td>\n",
       "      <td>I just love the location! I love the barista's...</td>\n",
       "      <td>2017-03-04 06:39:24</td>\n",
       "      <td>NV</td>\n",
       "      <td>36.273808</td>\n",
       "      <td>-115.252006</td>\n",
       "    </tr>\n",
       "    <tr>\n",
       "      <th>3</th>\n",
       "      <td>Starbucks</td>\n",
       "      <td>4.0</td>\n",
       "      <td>Great spot for outdoor seating in the summer s...</td>\n",
       "      <td>2015-07-04 16:32:34</td>\n",
       "      <td>NV</td>\n",
       "      <td>36.273808</td>\n",
       "      <td>-115.252006</td>\n",
       "    </tr>\n",
       "    <tr>\n",
       "      <th>4</th>\n",
       "      <td>Starbucks</td>\n",
       "      <td>4.0</td>\n",
       "      <td>How did I end up across town at this starbucks...</td>\n",
       "      <td>2017-03-15 18:09:00</td>\n",
       "      <td>NV</td>\n",
       "      <td>36.273808</td>\n",
       "      <td>-115.252006</td>\n",
       "    </tr>\n",
       "  </tbody>\n",
       "</table>\n",
       "</div>"
      ],
      "text/plain": [
       "        name  stars                                               text  \\\n",
       "0  Starbucks    1.0  Worst service ever.  Only one here and took 10...   \n",
       "1  Starbucks    1.0  This location is consistently out of breakfast...   \n",
       "2  Starbucks    5.0  I just love the location! I love the barista's...   \n",
       "3  Starbucks    4.0  Great spot for outdoor seating in the summer s...   \n",
       "4  Starbucks    4.0  How did I end up across town at this starbucks...   \n",
       "\n",
       "                  date state   latitude   longitude  \n",
       "0  2017-07-18 17:31:43    NV  36.273808 -115.252006  \n",
       "1  2015-10-24 15:45:36    NV  36.273808 -115.252006  \n",
       "2  2017-03-04 06:39:24    NV  36.273808 -115.252006  \n",
       "3  2015-07-04 16:32:34    NV  36.273808 -115.252006  \n",
       "4  2017-03-15 18:09:00    NV  36.273808 -115.252006  "
      ]
     },
     "execution_count": 2,
     "metadata": {},
     "output_type": "execute_result"
    }
   ],
   "source": [
    "starbucks_df = pd.read_csv('starbucks_yelp_reviews.csv')\n",
    "starbucks_df = starbucks_df.drop('Unnamed: 0', axis = 1)\n",
    "\n",
    "print(starbucks_df.shape)\n",
    "print(20*'-')\n",
    "starbucks_df.head()"
   ]
  },
  {
   "cell_type": "code",
   "execution_count": 57,
   "metadata": {},
   "outputs": [],
   "source": [
    "# build a list of strings for the CountVectorizer\n",
    "\n",
    "starbucks_list = []\n",
    "\n",
    "# Reindex the starbucks dataframe - since its a subset of the yelp data frame\n",
    "\n",
    "starbucks_index = list(range(0, len(starbucks_df)))\n",
    "starbucks_df = starbucks_df.reset_index()\n",
    "\n",
    "#  non-alpha characters to remove\n",
    "\n",
    "nonalpha = re.compile('[^a-zA-Z ]') # include a space in the pattern or it makes a massive \n",
    "                                    # single word of the entire string.\n",
    "\n",
    "for i in starbucks_index :\n",
    "    review = starbucks_df.loc[i,'text']\n",
    "    review = nonalpha.sub('', review)\n",
    "    starbucks_list.append(review)"
   ]
  },
  {
   "cell_type": "code",
   "execution_count": 58,
   "metadata": {},
   "outputs": [],
   "source": [
    "# build the vectorizer\n",
    "\n",
    "count_vect = CountVectorizer(stop_words='english')\n",
    "\n",
    "# get count vectors \n",
    "\n",
    "cv_reviews = count_vect.fit_transform(starbucks_list)\n",
    "columns = count_vect.get_feature_names()\n",
    "starbucks_vect_df = pd.DataFrame(cv_reviews.toarray(), columns = columns)\n",
    "\n",
    "#  labels for Stars\n",
    "\n",
    "starbucks_labels = starbucks_df['stars']"
   ]
  },
  {
   "cell_type": "code",
   "execution_count": 59,
   "metadata": {},
   "outputs": [
    {
     "name": "stdout",
     "output_type": "stream",
     "text": [
      "(24846, 38834)\n"
     ]
    },
    {
     "data": {
      "text/plain": [
       "0    1.0\n",
       "1    1.0\n",
       "2    5.0\n",
       "3    4.0\n",
       "4    4.0\n",
       "5    1.0\n",
       "6    3.0\n",
       "7    5.0\n",
       "8    5.0\n",
       "9    1.0\n",
       "Name: stars, dtype: float64"
      ]
     },
     "execution_count": 59,
     "metadata": {},
     "output_type": "execute_result"
    }
   ],
   "source": [
    "print(starbucks_vect_df.shape)\n",
    "starbucks_labels[:10]"
   ]
  },
  {
   "cell_type": "code",
   "execution_count": 8,
   "metadata": {},
   "outputs": [],
   "source": [
    "starbucks_vect_df.to_csv('starbucks_count_vect.csv')\n",
    "starbucks_labels.to_csv('starbucks_labels.csv')"
   ]
  },
  {
   "cell_type": "markdown",
   "metadata": {},
   "source": [
    "### MNB Modeling"
   ]
  },
  {
   "cell_type": "code",
   "execution_count": 50,
   "metadata": {},
   "outputs": [],
   "source": [
    "starbucks_vect_df = pd.read_csv('starbucks_count_vect.csv')\n",
    "starbucks_labels = pd.read_csv('starbucks_labels.csv')\n",
    "starbucks_labels = starbucks_labels['stars']"
   ]
  },
  {
   "cell_type": "code",
   "execution_count": 73,
   "metadata": {},
   "outputs": [
    {
     "name": "stdout",
     "output_type": "stream",
     "text": [
      "Starbucks Reviews - \n",
      "Shape of Training  (19876, 38834)\n",
      "Shape of Testing  (4970, 38834)\n",
      "--------------------\n"
     ]
    }
   ],
   "source": [
    "# split the data into 80 - 20% for MNB testing\n",
    "\n",
    "X_train, X_test, y_train, y_test = train_test_split(starbucks_vect_df, starbucks_labels, test_size=0.2, random_state=0)\n",
    "\n",
    "print('Starbucks Reviews - ')\n",
    "print('Shape of Training ' ,  X_train.shape)\n",
    "print('Shape of Testing ' , X_test.shape)\n",
    "print(20*'-')"
   ]
  },
  {
   "cell_type": "code",
   "execution_count": 74,
   "metadata": {},
   "outputs": [
    {
     "name": "stdout",
     "output_type": "stream",
     "text": [
      "Starbucks Rating Prediction (MNB) Confusion Matrix\n",
      "[[1091   65   34   26   21]\n",
      " [ 413   59   66   73   27]\n",
      " [ 173   42  143  310   75]\n",
      " [  88   15   73  590  310]\n",
      " [  93    9   17  271  886]]\n",
      "Accuracy =  0.5571428571428572\n",
      "--------------------\n"
     ]
    }
   ],
   "source": [
    "starbucks_mnb = MultinomialNB()\n",
    "starbucks_mnb.fit(X_train, y_train)\n",
    "starbucks_mnb_preds = starbucks_mnb.predict(X_test)\n",
    "\n",
    "# Confusion Matrices\n",
    "\n",
    "starbucks_mnb_matrix = confusion_matrix(y_test, starbucks_mnb_preds)\n",
    "print('Starbucks Rating Prediction (MNB) Confusion Matrix')\n",
    "print(starbucks_mnb_matrix)\n",
    "print('Accuracy = ', accuracy_score(y_test, starbucks_mnb_preds))\n",
    "print(20*'-')"
   ]
  },
  {
   "cell_type": "markdown",
   "metadata": {},
   "source": [
    "### BernoulliNB Modeling"
   ]
  },
  {
   "cell_type": "code",
   "execution_count": 60,
   "metadata": {},
   "outputs": [],
   "source": [
    "# build the vectorizer\n",
    "\n",
    "bool_vect = CountVectorizer(stop_words='english', binary = True)\n",
    "\n",
    "# get count vectors \n",
    "\n",
    "bool_reviews = bool_vect.fit_transform(starbucks_list)\n",
    "columns = bool_vect.get_feature_names()\n",
    "starbucks_boolvect_df = pd.DataFrame(bool_reviews.toarray(), columns = columns)\n",
    "\n",
    "starbucks_boolvect_df.to_csv('starbucks_bool_vect.csv')"
   ]
  },
  {
   "cell_type": "code",
   "execution_count": null,
   "metadata": {},
   "outputs": [],
   "source": [
    "starbucks_boolvect_df = pd.read_csv('starbucks_bool_vect.csv')\n",
    "starbucks_labels = pd.read_csv('starbucks_labels.csv')\n",
    "starbucks_labels = starbucks_labels['stars']"
   ]
  },
  {
   "cell_type": "code",
   "execution_count": 61,
   "metadata": {},
   "outputs": [
    {
     "name": "stdout",
     "output_type": "stream",
     "text": [
      "Starbucks Reviews - \n",
      "Shape of Training  (19876, 38834)\n",
      "Shape of Testing  (4970, 38834)\n",
      "--------------------\n"
     ]
    }
   ],
   "source": [
    "# split the data into 80 - 20% for MNB testing\n",
    "\n",
    "X_train, X_test, y_train, y_test = train_test_split(starbucks_boolvect_df, starbucks_labels, test_size=0.2, random_state=0)\n",
    "\n",
    "print('Starbucks Reviews - ')\n",
    "print('Shape of Training ' ,  X_train.shape)\n",
    "print('Shape of Testing ' , X_test.shape)\n",
    "print(20*'-')"
   ]
  },
  {
   "cell_type": "code",
   "execution_count": 62,
   "metadata": {},
   "outputs": [
    {
     "name": "stdout",
     "output_type": "stream",
     "text": [
      "Starbucks Rating Prediction (Bernoulli) Confusion Matrix\n",
      "[[ 995   28   10   21  183]\n",
      " [ 372   47   27   56  136]\n",
      " [ 138   30   81  224  270]\n",
      " [  48   26   67  377  558]\n",
      " [  55   20   29  146 1026]]\n",
      "Accuracy =  0.5082494969818914\n",
      "--------------------\n"
     ]
    }
   ],
   "source": [
    "starbucks_bern = BernoulliNB()\n",
    "starbucks_bern.fit(X_train, y_train)\n",
    "starbucks_bern_preds = starbucks_bern.predict(X_test)\n",
    "\n",
    "# Confusion Matrices\n",
    "\n",
    "starbucks_bern_matrix = confusion_matrix(y_test, starbucks_bern_preds)\n",
    "print('Starbucks Rating Prediction (Bernoulli) Confusion Matrix')\n",
    "print(starbucks_bern_matrix)\n",
    "print('Accuracy = ', accuracy_score(y_test, starbucks_bern_preds))\n",
    "print(20*'-')"
   ]
  },
  {
   "cell_type": "markdown",
   "metadata": {},
   "source": [
    "### SVM Modeling"
   ]
  },
  {
   "cell_type": "code",
   "execution_count": 36,
   "metadata": {},
   "outputs": [],
   "source": [
    "starbucks_vect_df = pd.read_csv('starbucks_count_vect.csv')\n",
    "starbucks_labels = pd.read_csv('starbucks_labels.csv')\n",
    "starbucks_labels = starbucks_labels['stars']"
   ]
  },
  {
   "cell_type": "code",
   "execution_count": 76,
   "metadata": {},
   "outputs": [
    {
     "name": "stdout",
     "output_type": "stream",
     "text": [
      "Starbucks Reviews - \n",
      "Shape of Training  (19876, 38834)\n",
      "Shape of Testing  (4970, 38834)\n",
      "--------------------\n"
     ]
    }
   ],
   "source": [
    "# split the data into 80 - 20% for svm testing\n",
    "\n",
    "X_train, X_test, y_train, y_test = train_test_split(starbucks_vect_df, starbucks_labels, test_size=0.2, random_state=0)\n",
    "\n",
    "print('Starbucks Reviews - ')\n",
    "print('Shape of Training ' ,  X_train.shape)\n",
    "print('Shape of Testing ' , X_test.shape)\n",
    "print(20*'-')"
   ]
  },
  {
   "cell_type": "code",
   "execution_count": 77,
   "metadata": {},
   "outputs": [],
   "source": [
    "starbucks_svm = LinearSVC(C=1)\n",
    "starbucks_svm.fit(X_train, y_train)\n",
    "starbucks_svm_preds = starbucks_svm.predict(X_test)"
   ]
  },
  {
   "cell_type": "code",
   "execution_count": 78,
   "metadata": {},
   "outputs": [
    {
     "name": "stdout",
     "output_type": "stream",
     "text": [
      "Starbucks Rating Prediction (SVM) Confusion Matrix\n",
      "[[852 205  90  41  49]\n",
      " [266 153 113  64  42]\n",
      " [100 135 217 184 107]\n",
      " [ 41  70 180 437 348]\n",
      " [ 37  26  67 286 860]]\n",
      "Accuracy =  0.506841046277666\n",
      "--------------------\n"
     ]
    }
   ],
   "source": [
    "# Confusion Matrices\n",
    "\n",
    "starbucks_svm_matrix = confusion_matrix(y_test, starbucks_svm_preds)\n",
    "print('Starbucks Rating Prediction (SVM) Confusion Matrix')\n",
    "print(starbucks_svm_matrix)\n",
    "print('Accuracy = ', accuracy_score(y_test, starbucks_svm_preds))\n",
    "print(20*'-')"
   ]
  },
  {
   "cell_type": "markdown",
   "metadata": {},
   "source": [
    "### AFINN sentiment analysis"
   ]
  },
  {
   "cell_type": "code",
   "execution_count": 3,
   "metadata": {},
   "outputs": [],
   "source": [
    "starbucks_df = pd.read_csv('starbucks_yelp_reviews.csv')\n"
   ]
  },
  {
   "cell_type": "code",
   "execution_count": 4,
   "metadata": {},
   "outputs": [
    {
     "name": "stdout",
     "output_type": "stream",
     "text": [
      "(24846, 2)\n",
      "--------------------\n"
     ]
    },
    {
     "data": {
      "text/html": [
       "<div>\n",
       "<style scoped>\n",
       "    .dataframe tbody tr th:only-of-type {\n",
       "        vertical-align: middle;\n",
       "    }\n",
       "\n",
       "    .dataframe tbody tr th {\n",
       "        vertical-align: top;\n",
       "    }\n",
       "\n",
       "    .dataframe thead th {\n",
       "        text-align: right;\n",
       "    }\n",
       "</style>\n",
       "<table border=\"1\" class=\"dataframe\">\n",
       "  <thead>\n",
       "    <tr style=\"text-align: right;\">\n",
       "      <th></th>\n",
       "      <th>stars</th>\n",
       "      <th>text</th>\n",
       "    </tr>\n",
       "  </thead>\n",
       "  <tbody>\n",
       "    <tr>\n",
       "      <th>0</th>\n",
       "      <td>1.0</td>\n",
       "      <td>Worst service ever.  Only one here and took 10...</td>\n",
       "    </tr>\n",
       "    <tr>\n",
       "      <th>1</th>\n",
       "      <td>1.0</td>\n",
       "      <td>This location is consistently out of breakfast...</td>\n",
       "    </tr>\n",
       "    <tr>\n",
       "      <th>2</th>\n",
       "      <td>5.0</td>\n",
       "      <td>I just love the location! I love the barista's...</td>\n",
       "    </tr>\n",
       "    <tr>\n",
       "      <th>3</th>\n",
       "      <td>4.0</td>\n",
       "      <td>Great spot for outdoor seating in the summer s...</td>\n",
       "    </tr>\n",
       "    <tr>\n",
       "      <th>4</th>\n",
       "      <td>4.0</td>\n",
       "      <td>How did I end up across town at this starbucks...</td>\n",
       "    </tr>\n",
       "  </tbody>\n",
       "</table>\n",
       "</div>"
      ],
      "text/plain": [
       "   stars                                               text\n",
       "0    1.0  Worst service ever.  Only one here and took 10...\n",
       "1    1.0  This location is consistently out of breakfast...\n",
       "2    5.0  I just love the location! I love the barista's...\n",
       "3    4.0  Great spot for outdoor seating in the summer s...\n",
       "4    4.0  How did I end up across town at this starbucks..."
      ]
     },
     "execution_count": 4,
     "metadata": {},
     "output_type": "execute_result"
    }
   ],
   "source": [
    "starbucks_df = starbucks_df.drop(['Unnamed: 0','name', 'date', 'state', 'latitude', 'longitude'], axis = 1)\n",
    "\n",
    "print(starbucks_df.shape)\n",
    "print(20*'-')\n",
    "starbucks_df.head()"
   ]
  },
  {
   "cell_type": "code",
   "execution_count": 5,
   "metadata": {},
   "outputs": [],
   "source": [
    "# initialize the afinn class\n",
    "\n",
    "afinn = Afinn()\n",
    "starbucks_df['Afinn_Score'] = \"none\""
   ]
  },
  {
   "cell_type": "code",
   "execution_count": 6,
   "metadata": {},
   "outputs": [],
   "source": [
    "for i in range(0,len(starbucks_df)):\n",
    "    text = str(starbucks_df.loc[i,'text'])\n",
    "    starbucks_df.loc[i,'Afinn_Score'] = afinn.score(text)\n"
   ]
  },
  {
   "cell_type": "code",
   "execution_count": 26,
   "metadata": {},
   "outputs": [
    {
     "name": "stderr",
     "output_type": "stream",
     "text": [
      "C:\\Users\\Zac\\Anaconda3\\lib\\site-packages\\matplotlib\\axes\\_axes.py:6462: UserWarning: The 'normed' kwarg is deprecated, and has been replaced by the 'density' kwarg.\n",
      "  warnings.warn(\"The 'normed' kwarg is deprecated, and has been \"\n"
     ]
    },
    {
     "data": {
      "text/plain": [
       "Text(0,0.5,'Frequency')"
      ]
     },
     "execution_count": 26,
     "metadata": {},
     "output_type": "execute_result"
    },
    {
     "data": {
      "image/png": "[encoded data removed]",
      "text/plain": [
       "<Figure size 432x288 with 1 Axes>"
      ]
     },
     "metadata": {},
     "output_type": "display_data"
    }
   ],
   "source": [
    "# plot the frequency of afinn scores\n",
    "\n",
    "sent_hist = sns.distplot(starbucks_df['Afinn_Score'], bins = 25, color='tab:green', kde=False, norm_hist=False)\n",
    "sent_hist.set_title('Afinn Score Histogram')\n",
    "sent_hist.set_xlabel('Afinn Score')\n",
    "sent_hist.set_ylabel('Frequency')"
   ]
  },
  {
   "cell_type": "code",
   "execution_count": 34,
   "metadata": {},
   "outputs": [
    {
     "name": "stderr",
     "output_type": "stream",
     "text": [
      "C:\\Users\\Zac\\Anaconda3\\lib\\site-packages\\matplotlib\\axes\\_axes.py:6462: UserWarning: The 'normed' kwarg is deprecated, and has been replaced by the 'density' kwarg.\n",
      "  warnings.warn(\"The 'normed' kwarg is deprecated, and has been \"\n"
     ]
    },
    {
     "data": {
      "text/plain": [
       "[(0, 7000),\n",
       " [<matplotlib.axis.XTick at 0x264897b20f0>,\n",
       "  <matplotlib.axis.XTick at 0x264897ba9e8>,\n",
       "  <matplotlib.axis.XTick at 0x264897ba748>,\n",
       "  <matplotlib.axis.XTick at 0x26489789358>,\n",
       "  <matplotlib.axis.XTick at 0x26489789828>],\n",
       " (1, 5)]"
      ]
     },
     "execution_count": 34,
     "metadata": {},
     "output_type": "execute_result"
    },
    {
     "data": {
      "image/png": "[encoded data removed]",
      "text/plain": [
       "<Figure size 432x288 with 1 Axes>"
      ]
     },
     "metadata": {},
     "output_type": "display_data"
    }
   ],
   "source": [
    "# plot the frequency of star ratings\n",
    "\n",
    "stars_hist = sns.distplot(starbucks_df['stars'], bins = 5, color='tab:purple', kde=False, norm_hist=False)\n",
    "stars_hist.set_title('Stars Histogram')\n",
    "stars_hist.set_xlabel('Star Rating')\n",
    "stars_hist.set_ylabel('Frequency')\n",
    "stars_hist.set(xlim=(1,5),xticks=[1,2,3,4,5], ylim=(0,7000))"
   ]
  },
  {
   "cell_type": "code",
   "execution_count": 37,
   "metadata": {},
   "outputs": [
    {
     "name": "stdout",
     "output_type": "stream",
     "text": [
      "74 AFINN Score\n",
      "----\n",
      "4.0 Rating\n",
      "----\n",
      "Coffee, coffee, coffee! One of the major components in my life that it needs to function! \r",
      "\r\n",
      "\r",
      "\r\n",
      "Needing coffee this was the only Starbucks here, so here I am in line! The line is three deep and the damn Starbucks customer service is so fantastic that its fanatical. The over friendly Target/Starbucks employee is so nice that it's disgusting this early! Damn! I need less talk and more coffee! All of the um, and shrugs are pointing in one direction from the crowd of coffee people behind me too! Less talk and more hustle hustle in the morning to make sure that the coffee is in my hand! \r",
      "\r\n",
      "\r",
      "\r\n",
      "The store was highly organized and the Starbucks employee was in the best mood ever! Damn her energy level was off the top! She was highly motivated to make all of her customers comfortable and feel welcomed. She just needs to know that speed should be her friend. Especially this early in the morning. Having had no coffee this over excess chatter was cumbersome! I appreciate her extra care and service but damn less talk and a lot more action. The action that I'm talking about is the coffee that should be in my hand!\r",
      "\r\n",
      "\r",
      "\r\n",
      "I decided to have the salted caramel mocha in the grande size with added extra caramel and whip! All of the coffee tasted fantastic too! And it was so painful to watch her make it since she moved fast but with a pace that was not focused on what she was doing! She kept giving her opinion of the drink as she made it! Target should consider her for the sales of their company! Anyways back to coffee! After the last comment about how she and I share the same tastes of extra caramel on top I was given my refreshing coffee beverage.\r",
      "\r\n",
      "\r",
      "\r\n",
      "Nirvana finally has arrived! The mix of mocha and sweet delectable caramel quells yet another possible \"out of character\" moment! Thanks coffee for keeping me sane all these years. I have to say that my patience level is very high and I tolerate a lot, probably because of the twins! Lol! This morning I was border, a race car in the red.... ! Now that the coffee is half gone and in my system I think that I'm good! Not great, with more coffee comes that greatness! \r",
      "\r\n",
      "\r",
      "\r\n",
      "I did not sample from the pastries today, the waiting game was the hardest part. Really how long would of it been for a sandwich? Let's not do that? My most excellent cheri had an Americano. He had this iced and added his own fixings. I was the one that waited for the coffee to be made; by the way. He walked away and wanted to leave because of the wait. With all the patience in my court and wanting Starbucks I needed there sweet essence this morn! A bit trying in the patience department. For sure!\r",
      "\r\n",
      "\r",
      "\r\n",
      "Will I return, not in the morning time when I \"need\" and \"long\" for my coffee! If I was just casually shopping and doing running around this is a great little store. The store is so clean and the staff way tres outgoing and friendly. Considering the area which outside the store is not the best area! They have done a fantastic job at keeping this store so amazing and awesome! Bravo there. The reason for the four stars is for the speed of service which should be the utmost priority. I timed how long that it took to make my coffee from the order until I had it . It was eight minutes. This is Starbucks loosing money, not that she was not amazing, but her speed needs to improve! She is an awesome overly friendly talented individual. Just get the coffee to people in the morning fast so that race car stays out of the red!\n"
     ]
    }
   ],
   "source": [
    "# find the best scoring AFINN score and the review with it.\n",
    "\n",
    "max_index = starbucks_df['Afinn_Score'].idxmax()\n",
    "best = starbucks_df.loc[max_index,'text']\n",
    "\n",
    "print(starbucks_df.loc[max_index,'Afinn_Score'], 'AFINN Score')\n",
    "print('----')\n",
    "print(starbucks_df.loc[max_index,'stars'], 'Rating')\n",
    "print('----')\n",
    "print(best)"
   ]
  },
  {
   "cell_type": "code",
   "execution_count": 30,
   "metadata": {},
   "outputs": [
    {
     "data": {
      "text/plain": [
       "<matplotlib.axes._subplots.AxesSubplot at 0x1c1c1147400>"
      ]
     },
     "execution_count": 30,
     "metadata": {},
     "output_type": "execute_result"
    },
    {
     "data": {
      "image/png": "[encoded data removed]",
      "text/plain": [
       "<Figure size 432x288 with 1 Axes>"
      ]
     },
     "metadata": {},
     "output_type": "display_data"
    }
   ],
   "source": [
    "sns.stripplot('stars', 'Afinn_Score', data=starbucks_df, jitter=0.2, palette = 'RdYlGn')"
   ]
  },
  {
   "cell_type": "code",
   "execution_count": 8,
   "metadata": {},
   "outputs": [
    {
     "data": {
      "text/plain": [
       "Text(0,0.5,'AFINN Score')"
      ]
     },
     "execution_count": 8,
     "metadata": {},
     "output_type": "execute_result"
    },
    {
     "data": {
      "image/png": "[encoded data removed]",
      "text/plain": [
       "<Figure size 432x288 with 1 Axes>"
      ]
     },
     "metadata": {},
     "output_type": "display_data"
    }
   ],
   "source": [
    "sent_stars_plt = sns.boxplot('stars', 'Afinn_Score', data=starbucks_df, palette = 'RdYlGn')\n",
    "sent_stars_plt.set_title('AFINN Scores per Star Rating')\n",
    "sent_stars_plt.set_xlabel('Star Rating')\n",
    "sent_stars_plt.set_ylabel('AFINN Score')"
   ]
  },
  {
   "cell_type": "markdown",
   "metadata": {},
   "source": [
    "### Analyze a Out-of-Sample review from a local Starbucks"
   ]
  },
  {
   "cell_type": "code",
   "execution_count": 53,
   "metadata": {},
   "outputs": [
    {
     "name": "stdout",
     "output_type": "stream",
     "text": [
      "13.0 1.0\n"
     ]
    }
   ],
   "source": [
    "text = ['''\n",
    "       Very good service and terrific staff. They were engaging and welcoming and you could tell  \n",
    "       these folks really enjoyed their job and greeting visitors. Just an Airport Starbucks,  \n",
    "       but with a great brew crew!\n",
    "       '''\n",
    "        , \n",
    "       '''\n",
    "       Oh, my word! We need some serious staff training heah! A line of people, orders taken quickly\n",
    "       but what a bottleneck between orders and actual fulfillment! Ok, first, what are you doing\n",
    "       making people who just want a regular coffee wait while you make lattes and frappuccinos? And\n",
    "       everyone waiting was discussing whether waiting longer was worth missing their flight! It\n",
    "       wasn't. Lukewarm latte, sullen and slow service, not even close to what a Starbucks should\n",
    "       be!\n",
    "       ''']\n",
    "\n",
    "score1 = afinn.score(text[0])\n",
    "score2 = afinn.score(text[1])\n",
    "print(score1, score2)"
   ]
  },
  {
   "cell_type": "code",
   "execution_count": 67,
   "metadata": {},
   "outputs": [],
   "source": [
    "# get count vectors \n",
    "\n",
    "cv_ = count_vect.transform(text)\n",
    "columns = count_vect.get_feature_names()\n",
    "_df = pd.DataFrame(cv_.toarray(), columns = columns)\n",
    "\n",
    "\n",
    "bool_ = bool_vect.transform(text)\n",
    "columns = bool_vect.get_feature_names()\n",
    "_booldf = pd.DataFrame(bool_.toarray(), columns = columns)"
   ]
  },
  {
   "cell_type": "code",
   "execution_count": 79,
   "metadata": {},
   "outputs": [],
   "source": [
    "mnb_pred = starbucks_mnb.predict(_df)\n",
    "bern_pred = starbucks_bern.predict(_booldf)\n",
    "svm_pred = starbucks_svm.predict(_df)"
   ]
  },
  {
   "cell_type": "code",
   "execution_count": 83,
   "metadata": {},
   "outputs": [
    {
     "name": "stdout",
     "output_type": "stream",
     "text": [
      "MNB Preds -  5.0 , 2.0\n",
      "Bernoulli Preds -  5.0 , 1.0\n",
      "SVM Preds -  5.0 , 2.0\n"
     ]
    }
   ],
   "source": [
    "print('MNB Preds - ', mnb_pred[0],',', mnb_pred[1])\n",
    "print('Bernoulli Preds - ', bern_pred[0],',', bern_pred[1])\n",
    "print('SVM Preds - ', svm_pred[0],',', svm_pred[1])"
   ]
  },
  {
   "cell_type": "code",
   "execution_count": null,
   "metadata": {},
   "outputs": [],
   "source": []
  }
 ],
 "metadata": {
  "kernelspec": {
   "display_name": "Python 3",
   "language": "python",
   "name": "python3"
  },
  "language_info": {
   "codemirror_mode": {
    "name": "ipython",
    "version": 3
   },
   "file_extension": ".py",
   "mimetype": "text/x-python",
   "name": "python",
   "nbconvert_exporter": "python",
   "pygments_lexer": "ipython3",
   "version": "3.6.5"
  }
 },
 "nbformat": 4,
 "nbformat_minor": 2
}
